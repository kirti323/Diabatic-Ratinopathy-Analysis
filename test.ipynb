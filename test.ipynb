{
 "cells": [
  {
   "cell_type": "code",
   "execution_count": 1,
   "metadata": {},
   "outputs": [],
   "source": [
    "import os\n",
    "import numpy as np"
   ]
  },
  {
   "cell_type": "code",
   "execution_count": 2,
   "metadata": {},
   "outputs": [
    {
     "data": {
      "text/plain": [
       "['573.png', '112.png', '205.png', '425.png', '328.png']"
      ]
     },
     "execution_count": 2,
     "metadata": {},
     "output_type": "execute_result"
    }
   ],
   "source": [
    "path1 = 'data/Segmentation/Original/train/'\n",
    "items1 = os.listdir(path1)\n",
    "items1[0:5]"
   ]
  },
  {
   "cell_type": "code",
   "execution_count": 3,
   "metadata": {},
   "outputs": [
    {
     "name": "stdout",
     "output_type": "stream",
     "text": [
      "(1024, 1024)\n"
     ]
    }
   ],
   "source": [
    "# Print the shape of the first image\n",
    "from PIL import Image\n",
    "img1 = Image.open(path1 + items1[0])\n",
    "print(img1.size)"
   ]
  },
  {
   "cell_type": "code",
   "execution_count": 8,
   "metadata": {},
   "outputs": [
    {
     "data": {
      "text/plain": [
       "array([[ 16,  47,   6, ...,  36,  16,  13],\n",
       "       [  1,   1, 113, ...,  69,   9,  63],\n",
       "       [ 35, 129, 126, ...,  31,   3,   1],\n",
       "       ...,\n",
       "       [  3,  54,  88, ...,   1,   1,   1],\n",
       "       [ 57, 113,  57, ...,   1,   1,   1],\n",
       "       [  1, 110, 104, ...,   1,   1,   1]], dtype=uint8)"
      ]
     },
     "execution_count": 8,
     "metadata": {},
     "output_type": "execute_result"
    }
   ],
   "source": [
    "# Convert image to numpy array\n",
    "img = np.array(img1)\n",
    "img"
   ]
  },
  {
   "cell_type": "code",
   "execution_count": 5,
   "metadata": {},
   "outputs": [
    {
     "data": {
      "text/plain": [
       "['331.png', '212.png', '082.png', '170.png', '498.png']"
      ]
     },
     "execution_count": 5,
     "metadata": {},
     "output_type": "execute_result"
    }
   ],
   "source": [
    "path2 = 'data/Segmentation/Groundtruths/intraretinal/'\n",
    "items2 = os.listdir(path2)\n",
    "items2[0:5]"
   ]
  },
  {
   "cell_type": "code",
   "execution_count": 6,
   "metadata": {},
   "outputs": [
    {
     "data": {
      "text/plain": [
       "array([[0, 0, 0, ..., 0, 0, 0],\n",
       "       [0, 0, 0, ..., 0, 0, 0],\n",
       "       [0, 0, 0, ..., 0, 0, 0],\n",
       "       ...,\n",
       "       [0, 0, 0, ..., 0, 0, 0],\n",
       "       [0, 0, 0, ..., 0, 0, 0],\n",
       "       [0, 0, 0, ..., 0, 0, 0]], dtype=uint8)"
      ]
     },
     "execution_count": 6,
     "metadata": {},
     "output_type": "execute_result"
    }
   ],
   "source": [
    "# Load First Image\n",
    "img2 = Image.open(path2 + items2[0])\n",
    "\n",
    "# Convert to numpy array\n",
    "img2 = np.array(img2)\n",
    "img2"
   ]
  }
 ],
 "metadata": {
  "kernelspec": {
   "display_name": "aieoastorch",
   "language": "python",
   "name": "python3"
  },
  "language_info": {
   "codemirror_mode": {
    "name": "ipython",
    "version": 3
   },
   "file_extension": ".py",
   "mimetype": "text/x-python",
   "name": "python",
   "nbconvert_exporter": "python",
   "pygments_lexer": "ipython3",
   "version": "3.11.5"
  }
 },
 "nbformat": 4,
 "nbformat_minor": 2
}
