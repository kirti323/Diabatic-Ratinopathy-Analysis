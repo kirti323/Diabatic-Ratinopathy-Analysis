{
 "cells": [
  {
   "cell_type": "code",
   "execution_count": 2,
   "metadata": {},
   "outputs": [],
   "source": [
    "# Import PyTorch Data Loader Library\n",
    "import torch\n",
    "import torch.nn as nn\n",
    "from torch.utils.data import DataLoader\n",
    "from torch.autograd import Variable\n",
    "from torchvision.models.segmentation import fcn_resnet50, fcn_resnet101\n",
    "from torchvision import transforms\n",
    "\n",
    "# Other Library Imports\n",
    "import os\n",
    "import numpy as np\n",
    "import pandas as pd\n",
    "import matplotlib.pyplot as plt\n",
    "import torchmetrics\n",
    "from torchmetrics import Dice\n",
    "import resource\n",
    "from monai.losses import DiceLoss as MonaiDiceLoss\n",
    "from monai.networks.nets import DenseNet, UNet, ResNet\n",
    "from monai.networks.layers import Norm\n",
    "from sklearn.model_selection import train_test_split\n",
    "import nibabel as nib\n",
    "import SimpleITK as sitk\n",
    "\n",
    "# Custom Imports\n",
    "from DRAC_Dataloading import DRAC_Loader\n",
    "from DRAC_Models import ResNetBinary, BinaryDenseNet\n",
    "from DRAC_Training import train_model\n",
    "from DRAC_Testing import test_model\n",
    "#from DRAC_Criterion import DiceLoss\n",
    "from models_unetpp import UNetPlusPlus\n",
    "from DRAC_Test_Dataloading import DRAC_Test_Loader\n",
    "\n",
    "# Warnings\n",
    "import warnings\n",
    "warnings.filterwarnings(\"ignore\")"
   ]
  },
  {
   "cell_type": "code",
   "execution_count": 2,
   "metadata": {},
   "outputs": [
    {
     "data": {
      "text/plain": [
       "'2.0.1'"
      ]
     },
     "execution_count": 2,
     "metadata": {},
     "output_type": "execute_result"
    }
   ],
   "source": [
    "torch.__version__"
   ]
  },
  {
   "cell_type": "code",
   "execution_count": 3,
   "metadata": {},
   "outputs": [
    {
     "data": {
      "text/plain": [
       "'1.3.2'"
      ]
     },
     "execution_count": 3,
     "metadata": {},
     "output_type": "execute_result"
    }
   ],
   "source": [
    "torchmetrics.__version__"
   ]
  },
  {
   "cell_type": "code",
   "execution_count": 4,
   "metadata": {},
   "outputs": [
    {
     "name": "stdout",
     "output_type": "stream",
     "text": [
      "cuda:0\n",
      "NVIDIA RTX A5000\n"
     ]
    }
   ],
   "source": [
    "device = torch.device(\"cuda:0\" if torch.cuda.is_available() else \"cpu\")\n",
    "print(device)\n",
    "print(torch.cuda.get_device_name(0))"
   ]
  },
  {
   "cell_type": "code",
   "execution_count": 5,
   "metadata": {},
   "outputs": [],
   "source": [
    "def current_memory_usage():\n",
    "    return resource.getrusage(resource.RUSAGE_SELF).ru_maxrss / 1024"
   ]
  },
  {
   "cell_type": "code",
   "execution_count": 6,
   "metadata": {},
   "outputs": [
    {
     "name": "stdout",
     "output_type": "stream",
     "text": [
      "829.2734375\n"
     ]
    }
   ],
   "source": [
    "## Default Variables ##\n",
    "# Datasets #\n",
    "\n",
    "# Dataloader #\n",
    "batch_size = 2 # Batch size of 16\n",
    "\n",
    "# Model #\n",
    "model = UNet(\n",
    "    spatial_dims=2,  # 2D image\n",
    "    in_channels=1,  # Single-channel input image\n",
    "    out_channels=1,  # Single-channel output for binary classification\n",
    "    channels=(4,8,16,8,4),  # Further reduced channels for each layer of the UNet\n",
    "    strides=(2,2,2,2),  # Reduced number of strides to match the reduced layers\n",
    "    kernel_size=3,  # Kernel size for the convolutions\n",
    "    up_kernel_size=3,  # Kernel size for the up-convolutions\n",
    "    #act='RELU',  # Activation function\n",
    "    #norm=Norm.INSTANCE,  # Using instance normalization which might be better for small datasets\n",
    "    #num_res_units=2,  # Reduced number of residual units to simplify the model\n",
    ").to(device)\n",
    "\n",
    "model_name = 'UNet-Monai'\n",
    "\n",
    "criterion = MonaiDiceLoss(\n",
    "    include_background=True, # Include background as a class for loss calculation\n",
    "    to_onehot_y=False, # Since your target is already a binary mask, no need for one-hot encoding\n",
    "    sigmoid=True, # Apply sigmoid activation to ensure the output ranges between 0 and 1\n",
    "    squared_pred=False # Use squared predictions in the Dice computation\n",
    ")\n",
    "criterion_name = 'MonaiDice-Alt'\n",
    "\n",
    "optimizer = torch.optim.Adam(model.parameters(), lr=1e-2)\n",
    "\n",
    "epochs = 50\n",
    "\n",
    "print(current_memory_usage())"
   ]
  },
  {
   "cell_type": "code",
   "execution_count": 7,
   "metadata": {},
   "outputs": [],
   "source": [
    "# Use os to list all items in following directory\n",
    "directory = \"./data/Segmentation/Original/train/\"\n",
    "items = os.listdir(directory)\n",
    "\n",
    "# Item Locations\n",
    "item_locations = [directory + item for item in items]\n",
    "\n",
    "# Split the data into training and validation sets\n",
    "import random\n",
    "value = random.randint(0,100)\n",
    "train_items, val_items = train_test_split(items, test_size=0.2, random_state=value)"
   ]
  },
  {
   "cell_type": "code",
   "execution_count": 8,
   "metadata": {},
   "outputs": [],
   "source": [
    "# Now make full list with directories\n",
    "train_items_full = [directory + item for item in train_items]\n",
    "val_items_full = [directory + item for item in val_items]"
   ]
  },
  {
   "cell_type": "code",
   "execution_count": 9,
   "metadata": {},
   "outputs": [],
   "source": [
    "# In validation of items, check to see if each item is in various labels in the following locations:\n",
    "intraretinal_dir = \"./data/Segmentation/Groundtruths/intraretinal/\"\n",
    "neovascular_dir = \"./data/Segmentation/Groundtruths/neovascular/\"\n",
    "nonperfusion_dir = \"./data/Segmentation/Groundtruths/nonperfusion/\"\n",
    "\n",
    "# Cycle through each item in both train_items, find train_items and val_items in the 3 directories for each item, as long as the item is in the train_items or val_items\n",
    "train_items_intraretinal = [intraretinal_dir + item for item in train_items if item in os.listdir(intraretinal_dir)]\n",
    "train_items_neovascular = [neovascular_dir + item for item in train_items if item in os.listdir(neovascular_dir)]\n",
    "train_items_nonperfusion = [nonperfusion_dir + item for item in train_items if item in os.listdir(nonperfusion_dir)]\n",
    "\n",
    "val_items_intraretinal = [intraretinal_dir + item for item in val_items if item in os.listdir(intraretinal_dir)]\n",
    "val_items_neovascular = [neovascular_dir + item for item in val_items if item in os.listdir(neovascular_dir)]\n",
    "val_items_nonperfusion = [nonperfusion_dir + item for item in val_items if item in os.listdir(nonperfusion_dir)]\n",
    "\n",
    "# Now only give the names of the items, not the full path, for each fo the masks.\n",
    "train_items_intraretinal_name = [item.split(\"/\")[-1] for item in train_items_intraretinal]\n",
    "train_items_neovascular_name = [item.split(\"/\")[-1] for item in train_items_neovascular]\n",
    "train_items_nonperfusion_name = [item.split(\"/\")[-1] for item in train_items_nonperfusion]\n",
    "\n",
    "val_items_intraretinal_name = [item.split(\"/\")[-1] for item in val_items_intraretinal]\n",
    "val_items_neovascular_name = [item.split(\"/\")[-1] for item in val_items_neovascular]\n",
    "val_items_nonperfusion_name = [item.split(\"/\")[-1] for item in val_items_nonperfusion]"
   ]
  },
  {
   "cell_type": "code",
   "execution_count": 10,
   "metadata": {},
   "outputs": [],
   "source": [
    "transforms = transforms.Compose([\n",
    "    transforms.ToTensor()\n",
    "])"
   ]
  },
  {
   "cell_type": "code",
   "execution_count": 11,
   "metadata": {},
   "outputs": [],
   "source": [
    "# Make a list of datasets\n",
    "train_datasets = [DRAC_Loader(data = train_items_full, data_names = train_items, labels_loc = train_items_intraretinal, label_names = train_items_intraretinal_name, data_type = 'train', mask = \"intraretinal\", transform=transforms, rotation = False),\n",
    "                  DRAC_Loader(data = train_items_full, data_names = train_items, labels_loc = train_items_neovascular, label_names = train_items_neovascular_name, data_type = 'train', mask = \"neovascular\", transform=transforms, rotation = False),\n",
    "                  DRAC_Loader(data = train_items_full, data_names = train_items, labels_loc = train_items_nonperfusion, label_names = train_items_nonperfusion_name, data_type = 'train', mask = \"nonperfusion\", transform=transforms, rotation = False)]\n",
    "\n",
    "val_datasets = [DRAC_Loader(data = val_items_full, data_names = val_items, labels_loc = val_items_intraretinal, label_names = val_items_intraretinal_name, data_type = 'val', mask = \"intraretinal\", transform=transforms, rotation = False),\n",
    "                DRAC_Loader(data = val_items_full, data_names = val_items, labels_loc = val_items_neovascular, label_names = val_items_neovascular_name, data_type = 'val', mask = \"neovascular\", transform=transforms, rotation = False),\n",
    "                DRAC_Loader(data = val_items_full, data_names = val_items, labels_loc = val_items_nonperfusion, label_names = val_items_nonperfusion_name, data_type = 'val', mask = \"nonperfusion\", transform=transforms, rotation = False)]"
   ]
  },
  {
   "cell_type": "code",
   "execution_count": 12,
   "metadata": {},
   "outputs": [],
   "source": [
    "train_dataloaders = [DataLoader(train_datasets[0], batch_size=batch_size, shuffle=True),\n",
    "                     DataLoader(train_datasets[1], batch_size=batch_size, shuffle=True),\n",
    "                     DataLoader(train_datasets[2], batch_size=batch_size, shuffle=True)]\n",
    "\n",
    "val_dataloaders = [DataLoader(val_datasets[0], batch_size=batch_size, shuffle=True),\n",
    "                     DataLoader(val_datasets[1], batch_size=batch_size, shuffle=True),\n",
    "                     DataLoader(val_datasets[2], batch_size=batch_size, shuffle=True)]"
   ]
  },
  {
   "cell_type": "code",
   "execution_count": 13,
   "metadata": {},
   "outputs": [
    {
     "data": {
      "text/plain": [
       "(87, 22, 87, 22, 87, 22)"
      ]
     },
     "execution_count": 13,
     "metadata": {},
     "output_type": "execute_result"
    }
   ],
   "source": [
    "# Print the length of all datasets\n",
    "len(train_datasets[0]), len(val_datasets[0]), len(train_datasets[1]), len(val_datasets[1]), len(train_datasets[2]), len(val_datasets[2])"
   ]
  },
  {
   "cell_type": "code",
   "execution_count": 14,
   "metadata": {},
   "outputs": [
    {
     "name": "stdout",
     "output_type": "stream",
     "text": [
      "Epoch: 1/50 | Training Loss: 0.9758 | Validation Loss: 0.9675 | Time: 1.12 seconds\n",
      "Epoch: 2/50 | Training Loss: 0.9538 | Validation Loss: 0.9395 | Time: 0.77 seconds\n",
      "Epoch: 3/50 | Training Loss: 0.9107 | Validation Loss: 0.8896 | Time: 0.77 seconds\n",
      "Epoch: 4/50 | Training Loss: 0.8730 | Validation Loss: 0.8609 | Time: 0.75 seconds\n",
      "Epoch: 5/50 | Training Loss: 0.8407 | Validation Loss: 0.8108 | Time: 0.78 seconds\n",
      "Epoch: 6/50 | Training Loss: 0.7974 | Validation Loss: 0.7961 | Time: 0.76 seconds\n",
      "Epoch: 7/50 | Training Loss: 0.7626 | Validation Loss: 0.8065 | Time: 0.76 seconds\n",
      "Epoch: 8/50 | Training Loss: 0.7508 | Validation Loss: 0.7929 | Time: 0.76 seconds\n",
      "Epoch: 9/50 | Training Loss: 0.7210 | Validation Loss: 0.8030 | Time: 0.78 seconds\n",
      "Epoch: 10/50 | Training Loss: 0.7083 | Validation Loss: 0.7934 | Time: 0.76 seconds\n",
      "Epoch: 11/50 | Training Loss: 0.6933 | Validation Loss: 0.7945 | Time: 0.77 seconds\n",
      "Epoch: 12/50 | Training Loss: 0.6567 | Validation Loss: 0.8192 | Time: 0.76 seconds\n",
      "Epoch: 13/50 | Training Loss: 0.6428 | Validation Loss: 0.8364 | Time: 0.76 seconds\n",
      "Epoch: 14/50 | Training Loss: 0.6355 | Validation Loss: 0.7832 | Time: 0.76 seconds\n",
      "Epoch: 15/50 | Training Loss: 0.6401 | Validation Loss: 0.7958 | Time: 0.77 seconds\n",
      "Epoch: 16/50 | Training Loss: 0.6115 | Validation Loss: 0.8064 | Time: 0.77 seconds\n",
      "Epoch: 17/50 | Training Loss: 0.6152 | Validation Loss: 0.7930 | Time: 0.78 seconds\n",
      "Epoch: 18/50 | Training Loss: 0.6103 | Validation Loss: 0.8202 | Time: 0.76 seconds\n",
      "Epoch: 19/50 | Training Loss: 0.5893 | Validation Loss: 0.7900 | Time: 0.78 seconds\n",
      "Epoch: 20/50 | Training Loss: 0.5921 | Validation Loss: 0.8037 | Time: 0.77 seconds\n",
      "Epoch: 21/50 | Training Loss: 0.5766 | Validation Loss: 0.7937 | Time: 0.77 seconds\n",
      "Epoch: 22/50 | Training Loss: 0.5768 | Validation Loss: 0.8192 | Time: 0.78 seconds\n",
      "Epoch: 23/50 | Training Loss: 0.5710 | Validation Loss: 0.8052 | Time: 0.76 seconds\n",
      "Epoch: 24/50 | Training Loss: 0.5720 | Validation Loss: 0.8412 | Time: 0.78 seconds\n",
      "Epoch: 25/50 | Training Loss: 0.5681 | Validation Loss: 0.7975 | Time: 0.78 seconds\n",
      "Epoch: 26/50 | Training Loss: 0.5651 | Validation Loss: 0.8165 | Time: 0.76 seconds\n",
      "Epoch: 27/50 | Training Loss: 0.5468 | Validation Loss: 0.7932 | Time: 0.79 seconds\n",
      "Epoch: 28/50 | Training Loss: 0.5929 | Validation Loss: 0.7881 | Time: 0.79 seconds\n",
      "Epoch: 29/50 | Training Loss: 0.5610 | Validation Loss: 0.7888 | Time: 0.80 seconds\n",
      "Epoch: 30/50 | Training Loss: 0.5467 | Validation Loss: 0.8291 | Time: 0.79 seconds\n",
      "Epoch: 31/50 | Training Loss: 0.5416 | Validation Loss: 0.7951 | Time: 0.79 seconds\n",
      "Epoch: 32/50 | Training Loss: 0.5599 | Validation Loss: 0.8039 | Time: 0.79 seconds\n",
      "Epoch: 33/50 | Training Loss: 0.5381 | Validation Loss: 0.7962 | Time: 0.80 seconds\n",
      "Epoch: 34/50 | Training Loss: 0.5312 | Validation Loss: 0.7756 | Time: 0.80 seconds\n",
      "Epoch: 35/50 | Training Loss: 0.5280 | Validation Loss: 0.8001 | Time: 0.79 seconds\n",
      "Epoch: 36/50 | Training Loss: 0.5934 | Validation Loss: 0.8148 | Time: 0.80 seconds\n",
      "Epoch: 37/50 | Training Loss: 0.5541 | Validation Loss: 0.7929 | Time: 0.79 seconds\n",
      "Epoch: 38/50 | Training Loss: 0.5390 | Validation Loss: 0.7930 | Time: 0.79 seconds\n",
      "Epoch: 39/50 | Training Loss: 0.5234 | Validation Loss: 0.7850 | Time: 0.80 seconds\n",
      "Epoch: 40/50 | Training Loss: 0.5222 | Validation Loss: 0.7943 | Time: 0.82 seconds\n",
      "Epoch: 41/50 | Training Loss: 0.5199 | Validation Loss: 0.7871 | Time: 0.79 seconds\n",
      "Epoch: 42/50 | Training Loss: 0.5294 | Validation Loss: 0.7843 | Time: 0.79 seconds\n",
      "Epoch: 43/50 | Training Loss: 0.5205 | Validation Loss: 0.7897 | Time: 0.78 seconds\n",
      "Epoch: 44/50 | Training Loss: 0.5177 | Validation Loss: 0.8133 | Time: 0.77 seconds\n",
      "Epoch: 45/50 | Training Loss: 0.5438 | Validation Loss: 0.7990 | Time: 0.76 seconds\n",
      "Epoch: 46/50 | Training Loss: 0.5250 | Validation Loss: 0.7959 | Time: 0.78 seconds\n",
      "Epoch: 47/50 | Training Loss: 0.5150 | Validation Loss: 0.7949 | Time: 0.80 seconds\n",
      "Epoch: 48/50 | Training Loss: 0.5011 | Validation Loss: 0.7915 | Time: 0.79 seconds\n",
      "Epoch: 49/50 | Training Loss: 0.5068 | Validation Loss: 0.8156 | Time: 0.80 seconds\n",
      "Epoch: 50/50 | Training Loss: 0.5108 | Validation Loss: 0.7826 | Time: 0.80 seconds\n",
      "Epoch: 1/50 | Training Loss: 0.9830 | Validation Loss: 0.9264 | Time: 0.86 seconds\n",
      "Epoch: 2/50 | Training Loss: 0.9193 | Validation Loss: 0.9161 | Time: 0.85 seconds\n",
      "Epoch: 3/50 | Training Loss: 0.9059 | Validation Loss: 0.9110 | Time: 0.85 seconds\n",
      "Epoch: 4/50 | Training Loss: 0.8953 | Validation Loss: 0.8928 | Time: 0.85 seconds\n",
      "Epoch: 5/50 | Training Loss: 0.9032 | Validation Loss: 0.8974 | Time: 0.83 seconds\n",
      "Epoch: 6/50 | Training Loss: 0.8794 | Validation Loss: 0.8771 | Time: 0.84 seconds\n",
      "Epoch: 7/50 | Training Loss: 0.8788 | Validation Loss: 0.8710 | Time: 0.85 seconds\n",
      "Epoch: 8/50 | Training Loss: 0.8677 | Validation Loss: 0.8645 | Time: 0.85 seconds\n",
      "Epoch: 9/50 | Training Loss: 0.8477 | Validation Loss: 0.8649 | Time: 0.85 seconds\n",
      "Epoch: 10/50 | Training Loss: 0.8524 | Validation Loss: 0.8704 | Time: 0.84 seconds\n",
      "Epoch: 11/50 | Training Loss: 0.8353 | Validation Loss: 0.8907 | Time: 0.86 seconds\n",
      "Epoch: 12/50 | Training Loss: 0.8229 | Validation Loss: 0.8689 | Time: 0.85 seconds\n",
      "Epoch: 13/50 | Training Loss: 0.8174 | Validation Loss: 0.8785 | Time: 0.86 seconds\n",
      "Epoch: 14/50 | Training Loss: 0.8234 | Validation Loss: 0.8805 | Time: 0.86 seconds\n",
      "Epoch: 15/50 | Training Loss: 0.8094 | Validation Loss: 0.8647 | Time: 0.85 seconds\n",
      "Epoch: 16/50 | Training Loss: 0.7935 | Validation Loss: 0.8607 | Time: 0.86 seconds\n",
      "Epoch: 17/50 | Training Loss: 0.7969 | Validation Loss: 0.8926 | Time: 0.84 seconds\n",
      "Epoch: 18/50 | Training Loss: 0.8548 | Validation Loss: 0.8860 | Time: 0.85 seconds\n",
      "Epoch: 19/50 | Training Loss: 0.8038 | Validation Loss: 0.8635 | Time: 0.85 seconds\n",
      "Epoch: 20/50 | Training Loss: 0.8026 | Validation Loss: 0.8858 | Time: 0.86 seconds\n",
      "Epoch: 21/50 | Training Loss: 0.8185 | Validation Loss: 0.8702 | Time: 0.85 seconds\n",
      "Epoch: 22/50 | Training Loss: 0.7940 | Validation Loss: 0.8651 | Time: 0.86 seconds\n",
      "Epoch: 23/50 | Training Loss: 0.7900 | Validation Loss: 0.8603 | Time: 0.86 seconds\n",
      "Epoch: 24/50 | Training Loss: 0.7910 | Validation Loss: 0.8540 | Time: 0.85 seconds\n",
      "Epoch: 25/50 | Training Loss: 0.7817 | Validation Loss: 0.8569 | Time: 0.85 seconds\n",
      "Epoch: 26/50 | Training Loss: 0.7586 | Validation Loss: 0.8558 | Time: 0.87 seconds\n",
      "Epoch: 27/50 | Training Loss: 0.7794 | Validation Loss: 0.8956 | Time: 0.85 seconds\n",
      "Epoch: 28/50 | Training Loss: 0.8197 | Validation Loss: 0.8454 | Time: 0.85 seconds\n",
      "Epoch: 29/50 | Training Loss: 0.8032 | Validation Loss: 0.8512 | Time: 0.84 seconds\n",
      "Epoch: 30/50 | Training Loss: 0.7727 | Validation Loss: 0.8727 | Time: 0.85 seconds\n",
      "Epoch: 31/50 | Training Loss: 0.7728 | Validation Loss: 0.8666 | Time: 0.86 seconds\n",
      "Epoch: 32/50 | Training Loss: 0.7650 | Validation Loss: 0.8597 | Time: 0.86 seconds\n",
      "Epoch: 33/50 | Training Loss: 0.7583 | Validation Loss: 0.8502 | Time: 0.85 seconds\n",
      "Epoch: 34/50 | Training Loss: 0.7630 | Validation Loss: 0.8457 | Time: 0.85 seconds\n",
      "Epoch: 35/50 | Training Loss: 0.7594 | Validation Loss: 0.8607 | Time: 0.85 seconds\n",
      "Epoch: 36/50 | Training Loss: 0.7585 | Validation Loss: 0.8478 | Time: 0.85 seconds\n",
      "Epoch: 37/50 | Training Loss: 0.7430 | Validation Loss: 0.8467 | Time: 0.85 seconds\n",
      "Epoch: 38/50 | Training Loss: 0.7562 | Validation Loss: 0.8423 | Time: 0.87 seconds\n",
      "Epoch: 39/50 | Training Loss: 0.7655 | Validation Loss: 0.8562 | Time: 0.87 seconds\n",
      "Epoch: 40/50 | Training Loss: 0.7608 | Validation Loss: 0.8427 | Time: 0.85 seconds\n",
      "Epoch: 41/50 | Training Loss: 0.7528 | Validation Loss: 0.8439 | Time: 0.84 seconds\n",
      "Epoch: 42/50 | Training Loss: 0.7489 | Validation Loss: 0.8480 | Time: 0.85 seconds\n",
      "Epoch: 43/50 | Training Loss: 0.7548 | Validation Loss: 0.8497 | Time: 0.85 seconds\n",
      "Epoch: 44/50 | Training Loss: 0.7542 | Validation Loss: 0.8394 | Time: 0.86 seconds\n",
      "Epoch: 45/50 | Training Loss: 0.7400 | Validation Loss: 0.8422 | Time: 0.87 seconds\n",
      "Epoch: 46/50 | Training Loss: 0.7367 | Validation Loss: 0.8471 | Time: 0.86 seconds\n",
      "Epoch: 47/50 | Training Loss: 0.7565 | Validation Loss: 0.8849 | Time: 0.84 seconds\n",
      "Epoch: 48/50 | Training Loss: 0.7680 | Validation Loss: 0.8478 | Time: 0.85 seconds\n",
      "Epoch: 49/50 | Training Loss: 0.7629 | Validation Loss: 0.8466 | Time: 0.84 seconds\n",
      "Epoch: 50/50 | Training Loss: 0.7533 | Validation Loss: 0.8502 | Time: 0.86 seconds\n",
      "Epoch: 1/50 | Training Loss: 0.9989 | Validation Loss: 0.9982 | Time: 0.76 seconds\n",
      "Epoch: 2/50 | Training Loss: 0.9953 | Validation Loss: 0.9787 | Time: 0.75 seconds\n",
      "Epoch: 3/50 | Training Loss: 0.6276 | Validation Loss: 0.4756 | Time: 0.75 seconds\n",
      "Epoch: 4/50 | Training Loss: 0.4725 | Validation Loss: 0.4546 | Time: 0.77 seconds\n",
      "Epoch: 5/50 | Training Loss: 0.4599 | Validation Loss: 0.4464 | Time: 0.77 seconds\n",
      "Epoch: 6/50 | Training Loss: 0.4501 | Validation Loss: 0.4407 | Time: 0.76 seconds\n",
      "Epoch: 7/50 | Training Loss: 0.4407 | Validation Loss: 0.4376 | Time: 0.75 seconds\n",
      "Epoch: 8/50 | Training Loss: 0.4348 | Validation Loss: 0.4326 | Time: 0.75 seconds\n",
      "Epoch: 9/50 | Training Loss: 0.4289 | Validation Loss: 0.4255 | Time: 0.75 seconds\n",
      "Epoch: 10/50 | Training Loss: 0.4362 | Validation Loss: 0.4157 | Time: 0.76 seconds\n",
      "Epoch: 11/50 | Training Loss: 0.4232 | Validation Loss: 0.4090 | Time: 0.75 seconds\n",
      "Epoch: 12/50 | Training Loss: 0.4130 | Validation Loss: 0.4017 | Time: 0.76 seconds\n",
      "Epoch: 13/50 | Training Loss: 0.4216 | Validation Loss: 0.4018 | Time: 0.75 seconds\n",
      "Epoch: 14/50 | Training Loss: 0.4047 | Validation Loss: 0.3944 | Time: 0.75 seconds\n",
      "Epoch: 15/50 | Training Loss: 0.4035 | Validation Loss: 0.3993 | Time: 0.76 seconds\n",
      "Epoch: 16/50 | Training Loss: 0.4129 | Validation Loss: 0.3936 | Time: 0.75 seconds\n",
      "Epoch: 17/50 | Training Loss: 0.3989 | Validation Loss: 0.3935 | Time: 0.75 seconds\n",
      "Epoch: 18/50 | Training Loss: 0.3996 | Validation Loss: 0.3867 | Time: 0.75 seconds\n",
      "Epoch: 19/50 | Training Loss: 0.3933 | Validation Loss: 0.3865 | Time: 0.76 seconds\n",
      "Epoch: 20/50 | Training Loss: 0.3952 | Validation Loss: 0.3880 | Time: 0.76 seconds\n",
      "Epoch: 21/50 | Training Loss: 0.4061 | Validation Loss: 0.3978 | Time: 0.75 seconds\n",
      "Epoch: 22/50 | Training Loss: 0.3998 | Validation Loss: 0.3871 | Time: 0.76 seconds\n",
      "Epoch: 23/50 | Training Loss: 0.3822 | Validation Loss: 0.3763 | Time: 0.76 seconds\n",
      "Epoch: 24/50 | Training Loss: 0.3914 | Validation Loss: 0.3761 | Time: 0.77 seconds\n",
      "Epoch: 25/50 | Training Loss: 0.3833 | Validation Loss: 0.3806 | Time: 0.76 seconds\n",
      "Epoch: 26/50 | Training Loss: 0.3812 | Validation Loss: 0.3789 | Time: 0.76 seconds\n",
      "Epoch: 27/50 | Training Loss: 0.3977 | Validation Loss: 0.3970 | Time: 0.75 seconds\n",
      "Epoch: 28/50 | Training Loss: 0.3892 | Validation Loss: 0.3743 | Time: 0.75 seconds\n",
      "Epoch: 29/50 | Training Loss: 0.3757 | Validation Loss: 0.3776 | Time: 0.76 seconds\n",
      "Epoch: 30/50 | Training Loss: 0.3698 | Validation Loss: 0.3822 | Time: 0.75 seconds\n",
      "Epoch: 31/50 | Training Loss: 0.3656 | Validation Loss: 0.3831 | Time: 0.75 seconds\n",
      "Epoch: 32/50 | Training Loss: 0.3722 | Validation Loss: 0.3818 | Time: 0.75 seconds\n",
      "Epoch: 33/50 | Training Loss: 0.3619 | Validation Loss: 0.3696 | Time: 0.75 seconds\n",
      "Epoch: 34/50 | Training Loss: 0.3775 | Validation Loss: 0.3733 | Time: 0.75 seconds\n",
      "Epoch: 35/50 | Training Loss: 0.3606 | Validation Loss: 0.3723 | Time: 0.75 seconds\n",
      "Epoch: 36/50 | Training Loss: 0.3615 | Validation Loss: 0.3719 | Time: 0.76 seconds\n",
      "Epoch: 37/50 | Training Loss: 0.3556 | Validation Loss: 0.3771 | Time: 0.76 seconds\n",
      "Epoch: 38/50 | Training Loss: 0.3608 | Validation Loss: 0.3745 | Time: 0.76 seconds\n",
      "Epoch: 39/50 | Training Loss: 0.3564 | Validation Loss: 0.3675 | Time: 0.75 seconds\n",
      "Epoch: 40/50 | Training Loss: 0.3519 | Validation Loss: 0.3751 | Time: 0.76 seconds\n",
      "Epoch: 41/50 | Training Loss: 0.3505 | Validation Loss: 0.3686 | Time: 0.76 seconds\n",
      "Epoch: 42/50 | Training Loss: 0.3515 | Validation Loss: 0.3767 | Time: 0.75 seconds\n",
      "Epoch: 43/50 | Training Loss: 0.3571 | Validation Loss: 0.3734 | Time: 0.75 seconds\n",
      "Epoch: 44/50 | Training Loss: 0.3474 | Validation Loss: 0.3687 | Time: 0.75 seconds\n",
      "Epoch: 45/50 | Training Loss: 0.3417 | Validation Loss: 0.3676 | Time: 0.76 seconds\n",
      "Epoch: 46/50 | Training Loss: 0.3517 | Validation Loss: 0.3822 | Time: 0.77 seconds\n",
      "Epoch: 47/50 | Training Loss: 0.3439 | Validation Loss: 0.3696 | Time: 0.78 seconds\n",
      "Epoch: 48/50 | Training Loss: 0.3457 | Validation Loss: 0.3722 | Time: 0.75 seconds\n",
      "Epoch: 49/50 | Training Loss: 0.3478 | Validation Loss: 0.3725 | Time: 0.76 seconds\n",
      "Epoch: 50/50 | Training Loss: 0.3452 | Validation Loss: 0.3706 | Time: 0.75 seconds\n"
     ]
    }
   ],
   "source": [
    "loader_names = ['Intraretinal', 'Neovascularization', 'Nonperfusion']\n",
    "\n",
    "folder = f'models/{model_name}_{batch_size}_{epochs}_{criterion_name}'\n",
    "\n",
    "def createModelFolder(directory):\n",
    "    # Check to see if the folder exists, if not, create it. If it does, cycle through number interations until a new folder is created.\n",
    "    if not os.path.exists(directory):\n",
    "        os.makedirs(directory)\n",
    "        return directory\n",
    "    else:\n",
    "        i = 1\n",
    "        while os.path.exists(f'{directory}_{i}'):\n",
    "            i += 1\n",
    "        folder = f'{directory}_{i}'\n",
    "        os.makedirs(directory)\n",
    "        return folder\n",
    "\n",
    "# Create the folder\n",
    "all_losses = []\n",
    "count = 0\n",
    "create = True\n",
    "\n",
    "for i in range(3):\n",
    "    statistics = train_model(model, train_dataloaders[i], val_dataloaders[i],\n",
    "                             criterion, optimizer, epochs=epochs, criterion_name=criterion_name,\n",
    "                             segmentation_name=loader_names[i])\n",
    "\n",
    "    if create:\n",
    "        # Check first to see if folder does not exist\n",
    "        if not os.path.exists(folder):\n",
    "            folder = createModelFolder(folder)\n",
    "        \n",
    "        create = False\n",
    "    \n",
    "    # Save in the folder\n",
    "    torch.save(model.state_dict(), f'{folder}/model_{loader_names[i]}.pt')\n",
    "    \n",
    "    # Append the \"statistics\" item to the all_losses list\n",
    "    all_losses.append(statistics)"
   ]
  },
  {
   "cell_type": "code",
   "execution_count": 15,
   "metadata": {},
   "outputs": [
    {
     "data": {
      "text/plain": [
       "[0.9757947284683035,\n",
       " 0.9538218319683303,\n",
       " 0.9107431470910363,\n",
       " 0.8729711520792556]"
      ]
     },
     "execution_count": 15,
     "metadata": {},
     "output_type": "execute_result"
    }
   ],
   "source": [
    "stat1 = all_losses[0]\n",
    "\n",
    "# Load \"train_loss\" from the statistics.\n",
    "train_loss1 = stat1['train_loss']\n",
    "\n",
    "# Load the \"valid_loss\" from the statistics.\n",
    "valid_loss1 = stat1['valid_loss']\n",
    "\n",
    "train_loss1[:4]"
   ]
  },
  {
   "cell_type": "code",
   "execution_count": 16,
   "metadata": {},
   "outputs": [],
   "source": [
    "# Checks to see if graphs folder exists #\n",
    "if not os.path.exists('graphs'):\n",
    "    os.makedirs('graphs')"
   ]
  },
  {
   "cell_type": "code",
   "execution_count": 17,
   "metadata": {},
   "outputs": [
    {
     "data": {
      "image/png": "[encoded data removed]",
      "text/plain": [
       "<Figure size 800x500 with 1 Axes>"
      ]
     },
     "metadata": {},
     "output_type": "display_data"
    },
    {
     "data": {
      "image/png": "[encoded data removed]",
      "text/plain": [
       "<Figure size 800x500 with 1 Axes>"
      ]
     },
     "metadata": {},
     "output_type": "display_data"
    },
    {
     "data": {
      "image/png": "[encoded data removed]",
      "text/plain": [
       "<Figure size 800x500 with 1 Axes>"
      ]
     },
     "metadata": {},
     "output_type": "display_data"
    }
   ],
   "source": [
    "# Plot the loss\n",
    "plot = True\n",
    "count = 0\n",
    "graph_folder = f'graphs/{model_name}_{batch_size}_{epochs}_{criterion_name}'\n",
    "savegraphs = True\n",
    "\n",
    "# If graph folder does not exist, create\n",
    "if not os.path.exists(graph_folder):\n",
    "    os.makedirs(graph_folder)\n",
    "\n",
    "for stats in all_losses:\n",
    "    # Create 3 subplots loading \"train_loss\" and \"valid_loss\" on each subplot, with title being loader_names[count]\n",
    "    fig, ax = plt.subplots(1, 1, figsize=(8, 5))\n",
    "    ax.plot(stats['train_loss'], label='train')\n",
    "    ax.plot(stats['valid_loss'], label='valid')\n",
    "    ax.set_title(loader_names[count])\n",
    "    ax.legend()\n",
    "    ax.set_xlabel('Epoch')\n",
    "    ax.set_ylabel('Loss')\n",
    "    if savegraphs: plt.savefig(f'{graph_folder}/{loader_names[count]}_loss.png')\n",
    "    plt.show()\n",
    "    count += 1"
   ]
  },
  {
   "cell_type": "code",
   "execution_count": 4,
   "metadata": {},
   "outputs": [
    {
     "name": "stdout",
     "output_type": "stream",
     "text": [
      "cuda:0\n",
      "NVIDIA RTX A5000\n"
     ]
    }
   ],
   "source": [
    "device = torch.device(\"cuda:0\" if torch.cuda.is_available() else \"cpu\")\n",
    "print(device)\n",
    "print(torch.cuda.get_device_name(0))"
   ]
  },
  {
   "cell_type": "code",
   "execution_count": 3,
   "metadata": {},
   "outputs": [
    {
     "name": "stdout",
     "output_type": "stream",
     "text": [
      "0. UNet-Monai-Simplified_6_50_MonaiDice\n",
      "1. UNet-Monai-SuperSimple_4_50_MonaiDice-Alt\n",
      "2. UNet-Monai-Simplified_16_50_MonaiDice\n",
      "3. UNet-Monai_16_35_MonaiDice\n",
      "4. fcn_resnet50_3_250_DiceLoss\n",
      "5. fcn_resnet50_2_100_CrossEntropyLoss\n",
      "6. UNet-Monai_8_5_MonaiDice\n",
      "7. fcn_resnet50_3_250_DiceLoss_1\n",
      "8. UNet-Monai_1_50_MonaiDice-Alt\n",
      "9. UNet-Monai-Simplified_16_350_MonaiDice\n",
      "10. fcn_resnet50_2_50_CrossEntropyLoss\n",
      "11. UNet-Monai_2_50_MonaiDice-Alt\n",
      "12. UNet-Monai_16_200_MonaiDice\n",
      "13. UNet-Monai-SuperSimple_1_250_MonaiDice-Alt\n"
     ]
    }
   ],
   "source": [
    "# Load in the custom models\n",
    "name = os.listdir(\"./models/\")\n",
    "\n",
    "# Print out items with structure \"#. model_name\"\n",
    "for i in range(len(name)):\n",
    "    print(f\"{i}. {name[i]}\")"
   ]
  },
  {
   "cell_type": "code",
   "execution_count": 33,
   "metadata": {},
   "outputs": [
    {
     "data": {
      "text/plain": [
       "(['./models/UNet-Monai_2_50_MonaiDice-Alt/model_Intraretinal.pt',\n",
       "  './models/UNet-Monai_2_50_MonaiDice-Alt/model_Nonperfusion.pt',\n",
       "  './models/UNet-Monai_2_50_MonaiDice-Alt/model_Neovascularization.pt'],\n",
       " 'UNet-Monai_2_50_MonaiDice-Alt')"
      ]
     },
     "execution_count": 33,
     "metadata": {},
     "output_type": "execute_result"
    }
   ],
   "source": [
    "#file = \"./models/\" + f'{model_name}_{batch_size}_{epochs}_{criterion_name}' + \"/\"\n",
    "file = \"./models/\" + name[10] + \"/\"\n",
    "models = os.listdir(file)\n",
    "models = [file + model for model in models]\n",
    "\n",
    "# If any item in the list is a directory, remove it\n",
    "models = [model for model in models if not os.path.isdir(model)]\n",
    "\n",
    "# Get the folder name\n",
    "folder_name = f'{model_name}_{batch_size}_{epochs}_{criterion_name}'\n",
    "\n",
    "models, folder_name"
   ]
  },
  {
   "cell_type": "code",
   "execution_count": 34,
   "metadata": {},
   "outputs": [],
   "source": [
    "# Within file create folder called \"Predictions\"\n",
    "if not os.path.exists(file + \"Predictions\"):\n",
    "    os.makedirs(file + \"Predictions\")\n",
    "\n",
    "# Set another location\n",
    "predictions = file + \"Predictions/\""
   ]
  },
  {
   "cell_type": "code",
   "execution_count": 44,
   "metadata": {},
   "outputs": [
    {
     "data": {
      "text/plain": [
       "(['./data/Segmentation/Original/test/1250.png',\n",
       "  './data/Segmentation/Original/test/1281.png',\n",
       "  './data/Segmentation/Original/test/728.png',\n",
       "  './data/Segmentation/Original/test/1172.png'],\n",
       " 65)"
      ]
     },
     "execution_count": 44,
     "metadata": {},
     "output_type": "execute_result"
    }
   ],
   "source": [
    "# Use os to list all items in following directory\n",
    "directory = \"./data/Segmentation/Original/test/\"\n",
    "items = os.listdir(directory)\n",
    "\n",
    "# Item Locations\n",
    "item_locations = [directory + item for item in items]\n",
    "\n",
    "item_locations[:4], len(item_locations)"
   ]
  },
  {
   "cell_type": "code",
   "execution_count": 45,
   "metadata": {},
   "outputs": [],
   "source": [
    "test_dataset = DRAC_Test_Loader(data = item_locations, data_names = items, transform = transforms)\n",
    "test_dataloader = DataLoader(test_dataset, batch_size = batch_size, shuffle = False)"
   ]
  },
  {
   "cell_type": "code",
   "execution_count": 57,
   "metadata": {},
   "outputs": [
    {
     "data": {
      "text/plain": [
       "65"
      ]
     },
     "execution_count": 57,
     "metadata": {},
     "output_type": "execute_result"
    }
   ],
   "source": [
    "# Print the length of the test dataset\n",
    "len(test_dataset)"
   ]
  },
  {
   "cell_type": "code",
   "execution_count": 60,
   "metadata": {},
   "outputs": [
    {
     "name": "stdout",
     "output_type": "stream",
     "text": [
      "The model for Intraretinal has been saved as 1.nii.gz in ./models/UNet-Monai_2_50_MonaiDice-Alt/Predictions/\n",
      "The model for Nonperfusion has been saved as 2.nii.gz in ./models/UNet-Monai_2_50_MonaiDice-Alt/Predictions/\n",
      "The model for Neovascularization has been saved as 3.nii.gz in ./models/UNet-Monai_2_50_MonaiDice-Alt/Predictions/\n"
     ]
    }
   ],
   "source": [
    "count = 0\n",
    "\n",
    "for model_location in models:    \n",
    "    # Trained model is located at model_location, load this\n",
    "    model.load_state_dict(torch.load(model_location))\n",
    "    \n",
    "    model.eval()\n",
    "    \n",
    "    # Test the model, run if statements...\n",
    "    if \"Intraretinal\" in model_location:\n",
    "        loader = test_dataloader\n",
    "        loader_name = \"Intraretinal\"\n",
    "        nii_file = \"1.nii.gz\"\n",
    "    elif \"Neovascularization\" in model_location:\n",
    "        loader = test_dataloader\n",
    "        loader_name = \"Neovascularization\"\n",
    "        nii_file = \"3.nii.gz\"\n",
    "    elif \"Nonperfusion\" in model_location:\n",
    "        loader = test_dataloader\n",
    "        loader_name = \"Nonperfusion\"\n",
    "        nii_file = \"2.nii.gz\"\n",
    "    else:\n",
    "        print(\"Error\")\n",
    "        break\n",
    "    \n",
    "    # Create a pandas dataframe to store the predictions\n",
    "    df = pd.DataFrame(columns = [\"Number\", \"Name\", \"Prediction\"])\n",
    "    \n",
    "    threshold = 0.5\n",
    "    \n",
    "    # Get list of names from \"loader\", removing the .png from the end\n",
    "    data_names = test_dataset.image_names\n",
    "    data_numbers = [int(name.split(\".\")[0]) for name in data_names]\n",
    "    \n",
    "    data_count = 0\n",
    "    print(len(loader[0]))\n",
    "    for data in loader:        \n",
    "        inputs = data[\"image\"].to(device)\n",
    "        \n",
    "        with torch.no_grad():\n",
    "            outputs = model(inputs)\n",
    "        \n",
    "        outputs = ((outputs > threshold).float()).cpu().numpy()  # This will give you a tensor of 0s and 1s\n",
    "        \n",
    "        # Add the name and prediction to the dataframe, using pd.concat\n",
    "        df = pd.concat([df, pd.DataFrame({\"Number\": [data_numbers[data_count]], \"Name\": [data_names[data_count]], \"Prediction\": [outputs]})])\n",
    "        data_count += 1\n",
    "    \n",
    "    #print(df.shape)\n",
    "    # Reorder the df by the \"Name\" column, then reset the index\n",
    "    df = df.sort_values(by = \"Number\")\n",
    "    df = df.reset_index(drop = True)\n",
    "    df = df.drop(columns = [\"Number\"])\n",
    "    \n",
    "    # Now, cycle through the predictions and save them as NIfTI files, using the \"Name\" as the file name\n",
    "    final_output = np.zeros((1024, 1024, len(df)))\n",
    "    \n",
    "    for i in range(len(df)):\n",
    "        final_output[:, :, i] = df[\"Prediction\"][i][0, 0, :, :]\n",
    "    \n",
    "    # Save the output array to a NIfTI file\n",
    "    nii_img = nib.Nifti1Image(final_output, np.eye(4))  # Adjust affine as necessary\n",
    "    \n",
    "    nib.save(nii_img, f'{predictions}{nii_file}')\n",
    "    print(f\"The model for {loader_name} has been saved as {nii_file} in {predictions}\")"
   ]
  },
  {
   "cell_type": "code",
   "execution_count": 61,
   "metadata": {},
   "outputs": [
    {
     "data": {
      "text/plain": [
       "[<SimpleITK.SimpleITK.Image; proxy of <Swig Object of type 'std::vector< itk::simple::Image >::value_type *' at 0x7f758974bd80> >,\n",
       " <SimpleITK.SimpleITK.Image; proxy of <Swig Object of type 'std::vector< itk::simple::Image >::value_type *' at 0x7f7638143f30> >,\n",
       " <SimpleITK.SimpleITK.Image; proxy of <Swig Object of type 'std::vector< itk::simple::Image >::value_type *' at 0x7f758a53a3a0> >]"
      ]
     },
     "execution_count": 61,
     "metadata": {},
     "output_type": "execute_result"
    }
   ],
   "source": [
    "# Load \"./models/fcn_resnet50_2_50_CrossEntropyLoss/Predictions/1.nii.gz\"\n",
    "images = [sitk.ReadImage(f\"{predictions}1.nii.gz\"), sitk.ReadImage(f\"{predictions}2.nii.gz\"), sitk.ReadImage(f\"{predictions}3.nii.gz\")]\n",
    "images"
   ]
  },
  {
   "cell_type": "code",
   "execution_count": 62,
   "metadata": {},
   "outputs": [
    {
     "data": {
      "text/plain": [
       "(1024, 1024, 33)"
      ]
     },
     "execution_count": 62,
     "metadata": {},
     "output_type": "execute_result"
    }
   ],
   "source": [
    "# Shape of the first image\n",
    "images[2].GetSize()"
   ]
  },
  {
   "cell_type": "code",
   "execution_count": 63,
   "metadata": {},
   "outputs": [
    {
     "name": "stdout",
     "output_type": "stream",
     "text": [
      "(33, 1024, 1024)\n"
     ]
    },
    {
     "data": {
      "text/plain": [
       "<matplotlib.image.AxesImage at 0x7f758936af50>"
      ]
     },
     "execution_count": 63,
     "metadata": {},
     "output_type": "execute_result"
    },
    {
     "data": {
      "image/png": "[encoded data removed]",
      "text/plain": [
       "<Figure size 640x480 with 1 Axes>"
      ]
     },
     "metadata": {},
     "output_type": "display_data"
    }
   ],
   "source": [
    "nii1 = sitk.GetArrayFromImage(images[0])\n",
    "print(nii1.shape)\n",
    "plt.imshow(nii1[7,:,:], cmap='gray')"
   ]
  },
  {
   "cell_type": "code",
   "execution_count": 64,
   "metadata": {},
   "outputs": [
    {
     "ename": "IndexError",
     "evalue": "index 47 is out of bounds for axis 0 with size 33",
     "output_type": "error",
     "traceback": [
      "\u001b[0;31m---------------------------------------------------------------------------\u001b[0m",
      "\u001b[0;31mIndexError\u001b[0m                                Traceback (most recent call last)",
      "Cell \u001b[0;32mIn[64], line 13\u001b[0m\n\u001b[1;32m     10\u001b[0m j \u001b[38;5;241m=\u001b[39m random\u001b[38;5;241m.\u001b[39mrandint(\u001b[38;5;241m0\u001b[39m, \u001b[38;5;241m64\u001b[39m)\n\u001b[1;32m     12\u001b[0m plt\u001b[38;5;241m.\u001b[39msubplot(\u001b[38;5;241m2\u001b[39m, \u001b[38;5;241m5\u001b[39m, i \u001b[38;5;241m+\u001b[39m \u001b[38;5;241m1\u001b[39m)\n\u001b[0;32m---> 13\u001b[0m plt\u001b[38;5;241m.\u001b[39mimshow(sitk\u001b[38;5;241m.\u001b[39mGetArrayFromImage(image)[j,:,:], cmap \u001b[38;5;241m=\u001b[39m \u001b[38;5;124m'\u001b[39m\u001b[38;5;124mgray\u001b[39m\u001b[38;5;124m'\u001b[39m)\n\u001b[1;32m     14\u001b[0m plt\u001b[38;5;241m.\u001b[39maxis(\u001b[38;5;124m'\u001b[39m\u001b[38;5;124moff\u001b[39m\u001b[38;5;124m'\u001b[39m)\n\u001b[1;32m     15\u001b[0m plt\u001b[38;5;241m.\u001b[39mtitle(\u001b[38;5;124mf\u001b[39m\u001b[38;5;124m\"\u001b[39m\u001b[38;5;124mSlice \u001b[39m\u001b[38;5;132;01m{\u001b[39;00mj\u001b[38;5;132;01m}\u001b[39;00m\u001b[38;5;124m\"\u001b[39m)\n",
      "\u001b[0;31mIndexError\u001b[0m: index 47 is out of bounds for axis 0 with size 33"
     ]
    },
    {
     "data": {
      "image/png": "[encoded data removed]",
      "text/plain": [
       "<Figure size 2000x800 with 1 Axes>"
      ]
     },
     "metadata": {},
     "output_type": "display_data"
    }
   ],
   "source": [
    "mask_names = [\"Intraretinal\", \"Nonperfusion\", \"Neovascularization\"]\n",
    "count = 0\n",
    "\n",
    "# For each item in images:\n",
    "for image in images:\n",
    "    # Plot 10 random images in a 2x5 grid\n",
    "    plt.figure(figsize = (20, 8))\n",
    "    for i in range(10):\n",
    "        import random\n",
    "        j = random.randint(0, 64)\n",
    "        \n",
    "        plt.subplot(2, 5, i + 1)\n",
    "        plt.imshow(sitk.GetArrayFromImage(image)[j,:,:], cmap = 'gray')\n",
    "        plt.axis('off')\n",
    "        plt.title(f\"Slice {j}\")\n",
    "    # Save plot in the same directory, but instead of Predictions do \"Plots\"\n",
    "    if not os.path.exists(file + \"Plots\"):\n",
    "        os.makedirs(file + \"Plots\")\n",
    "    plt.savefig(f\"{file}Plots/{mask_names[count]}.png\")\n",
    "    \n",
    "    plt.show()\n",
    "    count+=1"
   ]
  },
  {
   "cell_type": "code",
   "execution_count": null,
   "metadata": {},
   "outputs": [
    {
     "name": "stdout",
     "output_type": "stream",
     "text": [
      "Image size: (1024, 1024, 33)\n",
      "Voxel spacing: (1.0, 1.0, 1.0)\n",
      "Image origin: (0.0, 0.0, 0.0)\n",
      "Image array shape: (33, 1024, 1024)\n"
     ]
    }
   ],
   "source": [
    "# Get the image dimensions\n",
    "size = images[0].GetSize()\n",
    "print(\"Image size:\", size)\n",
    "\n",
    "# Get the voxel spacing\n",
    "spacing = images[0].GetSpacing()\n",
    "print(\"Voxel spacing:\", spacing)\n",
    "\n",
    "# Get the image origin\n",
    "origin = images[0].GetOrigin()\n",
    "print(\"Image origin:\", origin)\n",
    "\n",
    "# Access the image data as a numpy array\n",
    "image_array = sitk.GetArrayFromImage(images[0])\n",
    "print(\"Image array shape:\", image_array.shape)"
   ]
  }
 ],
 "metadata": {
  "kernelspec": {
   "display_name": "pythonvenv",
   "language": "python",
   "name": "python3"
  },
  "language_info": {
   "codemirror_mode": {
    "name": "ipython",
    "version": 3
   },
   "file_extension": ".py",
   "mimetype": "text/x-python",
   "name": "python",
   "nbconvert_exporter": "python",
   "pygments_lexer": "ipython3",
   "version": "3.11.5"
  }
 },
 "nbformat": 4,
 "nbformat_minor": 2
}
